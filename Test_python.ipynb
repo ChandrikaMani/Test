{
    "nbformat_minor": 1, 
    "metadata": {
        "kernelspec": {
            "name": "python2-spark21", 
            "display_name": "Python 2 with Spark 2.1", 
            "language": "python"
        }, 
        "language_info": {
            "mimetype": "text/x-python", 
            "version": "2.7.11", 
            "name": "python", 
            "pygments_lexer": "ipython2", 
            "nbconvert_exporter": "python", 
            "file_extension": ".py", 
            "codemirror_mode": {
                "name": "ipython", 
                "version": 2
            }
        }
    }, 
    "cells": [
        {
            "outputs": [
                {
                    "output_type": "execute_result", 
                    "metadata": {}, 
                    "execution_count": 1, 
                    "data": {
                        "text/plain": "0"
                    }
                }
            ], 
            "execution_count": 1, 
            "metadata": {}, 
            "cell_type": "code", 
            "source": "1/2\n"
        }, 
        {
            "outputs": [
                {
                    "output_type": "execute_result", 
                    "metadata": {}, 
                    "execution_count": 4, 
                    "data": {
                        "text/plain": "100"
                    }
                }
            ], 
            "execution_count": 4, 
            "metadata": {}, 
            "cell_type": "code", 
            "source": ""
        }, 
        {
            "outputs": [], 
            "execution_count": null, 
            "metadata": {}, 
            "cell_type": "code", 
            "source": ""
        }, 
        {
            "outputs": [], 
            "execution_count": null, 
            "metadata": {}, 
            "cell_type": "code", 
            "source": ""
        }, 
        {
            "outputs": [], 
            "execution_count": null, 
            "metadata": {}, 
            "cell_type": "code", 
            "source": ""
        }
    ], 
    "nbformat": 4
}